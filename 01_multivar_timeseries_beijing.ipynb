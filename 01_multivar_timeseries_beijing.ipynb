{
  "nbformat": 4,
  "nbformat_minor": 0,
  "metadata": {
    "colab": {
      "name": "01_multivar_timeseries_beijing.ipynb",
      "provenance": [],
      "collapsed_sections": [],
      "authorship_tag": "ABX9TyNBbbITN9/wlY0TXQBBos0Y",
      "include_colab_link": true
    },
    "kernelspec": {
      "name": "python3",
      "display_name": "Python 3"
    },
    "language_info": {
      "name": "python"
    }
  },
  "cells": [
    {
      "cell_type": "markdown",
      "metadata": {
        "id": "view-in-github",
        "colab_type": "text"
      },
      "source": [
        "<a href=\"https://colab.research.google.com/github/racamirko/ml_sketches/blob/main/01_multivar_timeseries_beijing.ipynb\" target=\"_parent\"><img src=\"https://colab.research.google.com/assets/colab-badge.svg\" alt=\"Open In Colab\"/></a>"
      ]
    },
    {
      "cell_type": "markdown",
      "metadata": {
        "id": "h4TqjDR7NAlf"
      },
      "source": [
        "# Multivariate timeseries prognosis\n",
        "\n",
        "Using example from [here](https://machinelearningmastery.com/multivariate-time-series-forecasting-lstms-keras/)"
      ]
    },
    {
      "cell_type": "code",
      "metadata": {
        "id": "ZY0n2UmHLZ_s"
      },
      "source": [
        "import numpy as np\n",
        "import pandas as pd\n",
        "import matplotlib.pyplot as plt\n",
        "from tensorflow import keras"
      ],
      "execution_count": 1,
      "outputs": []
    },
    {
      "cell_type": "code",
      "metadata": {
        "colab": {
          "base_uri": "https://localhost:8080/",
          "height": 677
        },
        "id": "-xApZ-6lLipc",
        "outputId": "f45115f4-5818-405e-fb6e-c30ca2ff72a4"
      },
      "source": [
        "# Dataset information\n",
        "url_beijing_pm25 = 'https://raw.githubusercontent.com/jbrownlee/Datasets/master/pollution.csv'\n",
        "df_raw = pd.read_csv(url_beijing_pm25)\n",
        "df_raw = df_raw.iloc[24:, :]\n",
        "df_raw['pm25'] = df_raw['pm2.5']\n",
        "df_raw.drop(['No', 'pm2.5'], axis=1, inplace=True)\n",
        "df_raw.head(20)"
      ],
      "execution_count": 11,
      "outputs": [
        {
          "output_type": "execute_result",
          "data": {
            "text/html": [
              "<div>\n",
              "<style scoped>\n",
              "    .dataframe tbody tr th:only-of-type {\n",
              "        vertical-align: middle;\n",
              "    }\n",
              "\n",
              "    .dataframe tbody tr th {\n",
              "        vertical-align: top;\n",
              "    }\n",
              "\n",
              "    .dataframe thead th {\n",
              "        text-align: right;\n",
              "    }\n",
              "</style>\n",
              "<table border=\"1\" class=\"dataframe\">\n",
              "  <thead>\n",
              "    <tr style=\"text-align: right;\">\n",
              "      <th></th>\n",
              "      <th>year</th>\n",
              "      <th>month</th>\n",
              "      <th>day</th>\n",
              "      <th>hour</th>\n",
              "      <th>DEWP</th>\n",
              "      <th>TEMP</th>\n",
              "      <th>PRES</th>\n",
              "      <th>cbwd</th>\n",
              "      <th>Iws</th>\n",
              "      <th>Is</th>\n",
              "      <th>Ir</th>\n",
              "      <th>pm25</th>\n",
              "    </tr>\n",
              "  </thead>\n",
              "  <tbody>\n",
              "    <tr>\n",
              "      <th>24</th>\n",
              "      <td>2010</td>\n",
              "      <td>1</td>\n",
              "      <td>2</td>\n",
              "      <td>0</td>\n",
              "      <td>-16</td>\n",
              "      <td>-4.0</td>\n",
              "      <td>1020.0</td>\n",
              "      <td>SE</td>\n",
              "      <td>1.79</td>\n",
              "      <td>0</td>\n",
              "      <td>0</td>\n",
              "      <td>129.0</td>\n",
              "    </tr>\n",
              "    <tr>\n",
              "      <th>25</th>\n",
              "      <td>2010</td>\n",
              "      <td>1</td>\n",
              "      <td>2</td>\n",
              "      <td>1</td>\n",
              "      <td>-15</td>\n",
              "      <td>-4.0</td>\n",
              "      <td>1020.0</td>\n",
              "      <td>SE</td>\n",
              "      <td>2.68</td>\n",
              "      <td>0</td>\n",
              "      <td>0</td>\n",
              "      <td>148.0</td>\n",
              "    </tr>\n",
              "    <tr>\n",
              "      <th>26</th>\n",
              "      <td>2010</td>\n",
              "      <td>1</td>\n",
              "      <td>2</td>\n",
              "      <td>2</td>\n",
              "      <td>-11</td>\n",
              "      <td>-5.0</td>\n",
              "      <td>1021.0</td>\n",
              "      <td>SE</td>\n",
              "      <td>3.57</td>\n",
              "      <td>0</td>\n",
              "      <td>0</td>\n",
              "      <td>159.0</td>\n",
              "    </tr>\n",
              "    <tr>\n",
              "      <th>27</th>\n",
              "      <td>2010</td>\n",
              "      <td>1</td>\n",
              "      <td>2</td>\n",
              "      <td>3</td>\n",
              "      <td>-7</td>\n",
              "      <td>-5.0</td>\n",
              "      <td>1022.0</td>\n",
              "      <td>SE</td>\n",
              "      <td>5.36</td>\n",
              "      <td>1</td>\n",
              "      <td>0</td>\n",
              "      <td>181.0</td>\n",
              "    </tr>\n",
              "    <tr>\n",
              "      <th>28</th>\n",
              "      <td>2010</td>\n",
              "      <td>1</td>\n",
              "      <td>2</td>\n",
              "      <td>4</td>\n",
              "      <td>-7</td>\n",
              "      <td>-5.0</td>\n",
              "      <td>1022.0</td>\n",
              "      <td>SE</td>\n",
              "      <td>6.25</td>\n",
              "      <td>2</td>\n",
              "      <td>0</td>\n",
              "      <td>138.0</td>\n",
              "    </tr>\n",
              "    <tr>\n",
              "      <th>29</th>\n",
              "      <td>2010</td>\n",
              "      <td>1</td>\n",
              "      <td>2</td>\n",
              "      <td>5</td>\n",
              "      <td>-7</td>\n",
              "      <td>-6.0</td>\n",
              "      <td>1022.0</td>\n",
              "      <td>SE</td>\n",
              "      <td>7.14</td>\n",
              "      <td>3</td>\n",
              "      <td>0</td>\n",
              "      <td>109.0</td>\n",
              "    </tr>\n",
              "    <tr>\n",
              "      <th>30</th>\n",
              "      <td>2010</td>\n",
              "      <td>1</td>\n",
              "      <td>2</td>\n",
              "      <td>6</td>\n",
              "      <td>-7</td>\n",
              "      <td>-6.0</td>\n",
              "      <td>1023.0</td>\n",
              "      <td>SE</td>\n",
              "      <td>8.93</td>\n",
              "      <td>4</td>\n",
              "      <td>0</td>\n",
              "      <td>105.0</td>\n",
              "    </tr>\n",
              "    <tr>\n",
              "      <th>31</th>\n",
              "      <td>2010</td>\n",
              "      <td>1</td>\n",
              "      <td>2</td>\n",
              "      <td>7</td>\n",
              "      <td>-7</td>\n",
              "      <td>-5.0</td>\n",
              "      <td>1024.0</td>\n",
              "      <td>SE</td>\n",
              "      <td>10.72</td>\n",
              "      <td>0</td>\n",
              "      <td>0</td>\n",
              "      <td>124.0</td>\n",
              "    </tr>\n",
              "    <tr>\n",
              "      <th>32</th>\n",
              "      <td>2010</td>\n",
              "      <td>1</td>\n",
              "      <td>2</td>\n",
              "      <td>8</td>\n",
              "      <td>-8</td>\n",
              "      <td>-6.0</td>\n",
              "      <td>1024.0</td>\n",
              "      <td>SE</td>\n",
              "      <td>12.51</td>\n",
              "      <td>0</td>\n",
              "      <td>0</td>\n",
              "      <td>120.0</td>\n",
              "    </tr>\n",
              "    <tr>\n",
              "      <th>33</th>\n",
              "      <td>2010</td>\n",
              "      <td>1</td>\n",
              "      <td>2</td>\n",
              "      <td>9</td>\n",
              "      <td>-7</td>\n",
              "      <td>-5.0</td>\n",
              "      <td>1025.0</td>\n",
              "      <td>SE</td>\n",
              "      <td>14.30</td>\n",
              "      <td>0</td>\n",
              "      <td>0</td>\n",
              "      <td>132.0</td>\n",
              "    </tr>\n",
              "    <tr>\n",
              "      <th>34</th>\n",
              "      <td>2010</td>\n",
              "      <td>1</td>\n",
              "      <td>2</td>\n",
              "      <td>10</td>\n",
              "      <td>-7</td>\n",
              "      <td>-5.0</td>\n",
              "      <td>1026.0</td>\n",
              "      <td>SE</td>\n",
              "      <td>17.43</td>\n",
              "      <td>1</td>\n",
              "      <td>0</td>\n",
              "      <td>140.0</td>\n",
              "    </tr>\n",
              "    <tr>\n",
              "      <th>35</th>\n",
              "      <td>2010</td>\n",
              "      <td>1</td>\n",
              "      <td>2</td>\n",
              "      <td>11</td>\n",
              "      <td>-8</td>\n",
              "      <td>-5.0</td>\n",
              "      <td>1026.0</td>\n",
              "      <td>SE</td>\n",
              "      <td>20.56</td>\n",
              "      <td>0</td>\n",
              "      <td>0</td>\n",
              "      <td>152.0</td>\n",
              "    </tr>\n",
              "    <tr>\n",
              "      <th>36</th>\n",
              "      <td>2010</td>\n",
              "      <td>1</td>\n",
              "      <td>2</td>\n",
              "      <td>12</td>\n",
              "      <td>-8</td>\n",
              "      <td>-5.0</td>\n",
              "      <td>1026.0</td>\n",
              "      <td>SE</td>\n",
              "      <td>23.69</td>\n",
              "      <td>0</td>\n",
              "      <td>0</td>\n",
              "      <td>148.0</td>\n",
              "    </tr>\n",
              "    <tr>\n",
              "      <th>37</th>\n",
              "      <td>2010</td>\n",
              "      <td>1</td>\n",
              "      <td>2</td>\n",
              "      <td>13</td>\n",
              "      <td>-8</td>\n",
              "      <td>-5.0</td>\n",
              "      <td>1025.0</td>\n",
              "      <td>SE</td>\n",
              "      <td>27.71</td>\n",
              "      <td>0</td>\n",
              "      <td>0</td>\n",
              "      <td>164.0</td>\n",
              "    </tr>\n",
              "    <tr>\n",
              "      <th>38</th>\n",
              "      <td>2010</td>\n",
              "      <td>1</td>\n",
              "      <td>2</td>\n",
              "      <td>14</td>\n",
              "      <td>-9</td>\n",
              "      <td>-5.0</td>\n",
              "      <td>1025.0</td>\n",
              "      <td>SE</td>\n",
              "      <td>31.73</td>\n",
              "      <td>0</td>\n",
              "      <td>0</td>\n",
              "      <td>158.0</td>\n",
              "    </tr>\n",
              "    <tr>\n",
              "      <th>39</th>\n",
              "      <td>2010</td>\n",
              "      <td>1</td>\n",
              "      <td>2</td>\n",
              "      <td>15</td>\n",
              "      <td>-9</td>\n",
              "      <td>-5.0</td>\n",
              "      <td>1025.0</td>\n",
              "      <td>SE</td>\n",
              "      <td>35.75</td>\n",
              "      <td>0</td>\n",
              "      <td>0</td>\n",
              "      <td>154.0</td>\n",
              "    </tr>\n",
              "    <tr>\n",
              "      <th>40</th>\n",
              "      <td>2010</td>\n",
              "      <td>1</td>\n",
              "      <td>2</td>\n",
              "      <td>16</td>\n",
              "      <td>-9</td>\n",
              "      <td>-5.0</td>\n",
              "      <td>1026.0</td>\n",
              "      <td>SE</td>\n",
              "      <td>37.54</td>\n",
              "      <td>0</td>\n",
              "      <td>0</td>\n",
              "      <td>159.0</td>\n",
              "    </tr>\n",
              "    <tr>\n",
              "      <th>41</th>\n",
              "      <td>2010</td>\n",
              "      <td>1</td>\n",
              "      <td>2</td>\n",
              "      <td>17</td>\n",
              "      <td>-8</td>\n",
              "      <td>-5.0</td>\n",
              "      <td>1027.0</td>\n",
              "      <td>SE</td>\n",
              "      <td>39.33</td>\n",
              "      <td>0</td>\n",
              "      <td>0</td>\n",
              "      <td>164.0</td>\n",
              "    </tr>\n",
              "    <tr>\n",
              "      <th>42</th>\n",
              "      <td>2010</td>\n",
              "      <td>1</td>\n",
              "      <td>2</td>\n",
              "      <td>18</td>\n",
              "      <td>-8</td>\n",
              "      <td>-5.0</td>\n",
              "      <td>1027.0</td>\n",
              "      <td>SE</td>\n",
              "      <td>42.46</td>\n",
              "      <td>0</td>\n",
              "      <td>0</td>\n",
              "      <td>170.0</td>\n",
              "    </tr>\n",
              "    <tr>\n",
              "      <th>43</th>\n",
              "      <td>2010</td>\n",
              "      <td>1</td>\n",
              "      <td>2</td>\n",
              "      <td>19</td>\n",
              "      <td>-8</td>\n",
              "      <td>-5.0</td>\n",
              "      <td>1028.0</td>\n",
              "      <td>SE</td>\n",
              "      <td>44.25</td>\n",
              "      <td>0</td>\n",
              "      <td>0</td>\n",
              "      <td>149.0</td>\n",
              "    </tr>\n",
              "  </tbody>\n",
              "</table>\n",
              "</div>"
            ],
            "text/plain": [
              "    year  month  day  hour  DEWP  TEMP    PRES cbwd    Iws  Is  Ir   pm25\n",
              "24  2010      1    2     0   -16  -4.0  1020.0   SE   1.79   0   0  129.0\n",
              "25  2010      1    2     1   -15  -4.0  1020.0   SE   2.68   0   0  148.0\n",
              "26  2010      1    2     2   -11  -5.0  1021.0   SE   3.57   0   0  159.0\n",
              "27  2010      1    2     3    -7  -5.0  1022.0   SE   5.36   1   0  181.0\n",
              "28  2010      1    2     4    -7  -5.0  1022.0   SE   6.25   2   0  138.0\n",
              "29  2010      1    2     5    -7  -6.0  1022.0   SE   7.14   3   0  109.0\n",
              "30  2010      1    2     6    -7  -6.0  1023.0   SE   8.93   4   0  105.0\n",
              "31  2010      1    2     7    -7  -5.0  1024.0   SE  10.72   0   0  124.0\n",
              "32  2010      1    2     8    -8  -6.0  1024.0   SE  12.51   0   0  120.0\n",
              "33  2010      1    2     9    -7  -5.0  1025.0   SE  14.30   0   0  132.0\n",
              "34  2010      1    2    10    -7  -5.0  1026.0   SE  17.43   1   0  140.0\n",
              "35  2010      1    2    11    -8  -5.0  1026.0   SE  20.56   0   0  152.0\n",
              "36  2010      1    2    12    -8  -5.0  1026.0   SE  23.69   0   0  148.0\n",
              "37  2010      1    2    13    -8  -5.0  1025.0   SE  27.71   0   0  164.0\n",
              "38  2010      1    2    14    -9  -5.0  1025.0   SE  31.73   0   0  158.0\n",
              "39  2010      1    2    15    -9  -5.0  1025.0   SE  35.75   0   0  154.0\n",
              "40  2010      1    2    16    -9  -5.0  1026.0   SE  37.54   0   0  159.0\n",
              "41  2010      1    2    17    -8  -5.0  1027.0   SE  39.33   0   0  164.0\n",
              "42  2010      1    2    18    -8  -5.0  1027.0   SE  42.46   0   0  170.0\n",
              "43  2010      1    2    19    -8  -5.0  1028.0   SE  44.25   0   0  149.0"
            ]
          },
          "metadata": {
            "tags": []
          },
          "execution_count": 11
        }
      ]
    },
    {
      "cell_type": "markdown",
      "metadata": {
        "id": "jKKAwZKsMp3c"
      },
      "source": [
        "Normalize the data"
      ]
    },
    {
      "cell_type": "code",
      "metadata": {
        "id": "s9bFNHrJMsGz"
      },
      "source": [
        "from sklearn.preprocessing import LabelEncoder\n",
        "from sklearn.preprocessing import MinMaxScaler"
      ],
      "execution_count": 8,
      "outputs": []
    },
    {
      "cell_type": "code",
      "metadata": {
        "colab": {
          "base_uri": "https://localhost:8080/",
          "height": 444
        },
        "id": "MYcUwc8pQtqQ",
        "outputId": "15a1e800-64ee-488b-851c-4368ce6cbc15"
      },
      "source": [
        "df_scaled = df_raw.copy()\n",
        "wind_encoder = LabelEncoder()\n",
        "df_scaled['cbwd'] = wind_encoder.fit_transform(df_scaled['cbwd'])\n",
        "float_scaler = MinMaxScaler(feature_range=(0, 1))\n",
        "df_scaled = pd.DataFrame(float_scaler.fit_transform(df_scaled))\n",
        "df_scaled.columns = df_raw.columns\n",
        "df_scaled"
      ],
      "execution_count": 19,
      "outputs": [
        {
          "output_type": "execute_result",
          "data": {
            "text/html": [
              "<div>\n",
              "<style scoped>\n",
              "    .dataframe tbody tr th:only-of-type {\n",
              "        vertical-align: middle;\n",
              "    }\n",
              "\n",
              "    .dataframe tbody tr th {\n",
              "        vertical-align: top;\n",
              "    }\n",
              "\n",
              "    .dataframe thead th {\n",
              "        text-align: right;\n",
              "    }\n",
              "</style>\n",
              "<table border=\"1\" class=\"dataframe\">\n",
              "  <thead>\n",
              "    <tr style=\"text-align: right;\">\n",
              "      <th></th>\n",
              "      <th>year</th>\n",
              "      <th>month</th>\n",
              "      <th>day</th>\n",
              "      <th>hour</th>\n",
              "      <th>DEWP</th>\n",
              "      <th>TEMP</th>\n",
              "      <th>PRES</th>\n",
              "      <th>cbwd</th>\n",
              "      <th>Iws</th>\n",
              "      <th>Is</th>\n",
              "      <th>Ir</th>\n",
              "      <th>pm25</th>\n",
              "    </tr>\n",
              "  </thead>\n",
              "  <tbody>\n",
              "    <tr>\n",
              "      <th>0</th>\n",
              "      <td>0.0</td>\n",
              "      <td>0.0</td>\n",
              "      <td>0.033333</td>\n",
              "      <td>0.000000</td>\n",
              "      <td>0.352941</td>\n",
              "      <td>0.245902</td>\n",
              "      <td>0.527273</td>\n",
              "      <td>0.666667</td>\n",
              "      <td>0.002290</td>\n",
              "      <td>0.000000</td>\n",
              "      <td>0.0</td>\n",
              "      <td>0.129779</td>\n",
              "    </tr>\n",
              "    <tr>\n",
              "      <th>1</th>\n",
              "      <td>0.0</td>\n",
              "      <td>0.0</td>\n",
              "      <td>0.033333</td>\n",
              "      <td>0.043478</td>\n",
              "      <td>0.367647</td>\n",
              "      <td>0.245902</td>\n",
              "      <td>0.527273</td>\n",
              "      <td>0.666667</td>\n",
              "      <td>0.003811</td>\n",
              "      <td>0.000000</td>\n",
              "      <td>0.0</td>\n",
              "      <td>0.148893</td>\n",
              "    </tr>\n",
              "    <tr>\n",
              "      <th>2</th>\n",
              "      <td>0.0</td>\n",
              "      <td>0.0</td>\n",
              "      <td>0.033333</td>\n",
              "      <td>0.086957</td>\n",
              "      <td>0.426471</td>\n",
              "      <td>0.229508</td>\n",
              "      <td>0.545455</td>\n",
              "      <td>0.666667</td>\n",
              "      <td>0.005332</td>\n",
              "      <td>0.000000</td>\n",
              "      <td>0.0</td>\n",
              "      <td>0.159960</td>\n",
              "    </tr>\n",
              "    <tr>\n",
              "      <th>3</th>\n",
              "      <td>0.0</td>\n",
              "      <td>0.0</td>\n",
              "      <td>0.033333</td>\n",
              "      <td>0.130435</td>\n",
              "      <td>0.485294</td>\n",
              "      <td>0.229508</td>\n",
              "      <td>0.563636</td>\n",
              "      <td>0.666667</td>\n",
              "      <td>0.008391</td>\n",
              "      <td>0.037037</td>\n",
              "      <td>0.0</td>\n",
              "      <td>0.182093</td>\n",
              "    </tr>\n",
              "    <tr>\n",
              "      <th>4</th>\n",
              "      <td>0.0</td>\n",
              "      <td>0.0</td>\n",
              "      <td>0.033333</td>\n",
              "      <td>0.173913</td>\n",
              "      <td>0.485294</td>\n",
              "      <td>0.229508</td>\n",
              "      <td>0.563636</td>\n",
              "      <td>0.666667</td>\n",
              "      <td>0.009912</td>\n",
              "      <td>0.074074</td>\n",
              "      <td>0.0</td>\n",
              "      <td>0.138833</td>\n",
              "    </tr>\n",
              "    <tr>\n",
              "      <th>...</th>\n",
              "      <td>...</td>\n",
              "      <td>...</td>\n",
              "      <td>...</td>\n",
              "      <td>...</td>\n",
              "      <td>...</td>\n",
              "      <td>...</td>\n",
              "      <td>...</td>\n",
              "      <td>...</td>\n",
              "      <td>...</td>\n",
              "      <td>...</td>\n",
              "      <td>...</td>\n",
              "      <td>...</td>\n",
              "    </tr>\n",
              "    <tr>\n",
              "      <th>43795</th>\n",
              "      <td>1.0</td>\n",
              "      <td>1.0</td>\n",
              "      <td>1.000000</td>\n",
              "      <td>0.826087</td>\n",
              "      <td>0.250000</td>\n",
              "      <td>0.278689</td>\n",
              "      <td>0.781818</td>\n",
              "      <td>0.333333</td>\n",
              "      <td>0.395659</td>\n",
              "      <td>0.000000</td>\n",
              "      <td>0.0</td>\n",
              "      <td>0.008048</td>\n",
              "    </tr>\n",
              "    <tr>\n",
              "      <th>43796</th>\n",
              "      <td>1.0</td>\n",
              "      <td>1.0</td>\n",
              "      <td>1.000000</td>\n",
              "      <td>0.869565</td>\n",
              "      <td>0.264706</td>\n",
              "      <td>0.262295</td>\n",
              "      <td>0.781818</td>\n",
              "      <td>0.333333</td>\n",
              "      <td>0.405588</td>\n",
              "      <td>0.000000</td>\n",
              "      <td>0.0</td>\n",
              "      <td>0.010060</td>\n",
              "    </tr>\n",
              "    <tr>\n",
              "      <th>43797</th>\n",
              "      <td>1.0</td>\n",
              "      <td>1.0</td>\n",
              "      <td>1.000000</td>\n",
              "      <td>0.913043</td>\n",
              "      <td>0.264706</td>\n",
              "      <td>0.262295</td>\n",
              "      <td>0.781818</td>\n",
              "      <td>0.333333</td>\n",
              "      <td>0.413996</td>\n",
              "      <td>0.000000</td>\n",
              "      <td>0.0</td>\n",
              "      <td>0.010060</td>\n",
              "    </tr>\n",
              "    <tr>\n",
              "      <th>43798</th>\n",
              "      <td>1.0</td>\n",
              "      <td>1.0</td>\n",
              "      <td>1.000000</td>\n",
              "      <td>0.956522</td>\n",
              "      <td>0.264706</td>\n",
              "      <td>0.245902</td>\n",
              "      <td>0.781818</td>\n",
              "      <td>0.333333</td>\n",
              "      <td>0.420866</td>\n",
              "      <td>0.000000</td>\n",
              "      <td>0.0</td>\n",
              "      <td>0.008048</td>\n",
              "    </tr>\n",
              "    <tr>\n",
              "      <th>43799</th>\n",
              "      <td>1.0</td>\n",
              "      <td>1.0</td>\n",
              "      <td>1.000000</td>\n",
              "      <td>1.000000</td>\n",
              "      <td>0.279412</td>\n",
              "      <td>0.262295</td>\n",
              "      <td>0.781818</td>\n",
              "      <td>0.333333</td>\n",
              "      <td>0.426216</td>\n",
              "      <td>0.000000</td>\n",
              "      <td>0.0</td>\n",
              "      <td>0.012072</td>\n",
              "    </tr>\n",
              "  </tbody>\n",
              "</table>\n",
              "<p>43800 rows × 12 columns</p>\n",
              "</div>"
            ],
            "text/plain": [
              "       year  month       day      hour  ...       Iws        Is   Ir      pm25\n",
              "0       0.0    0.0  0.033333  0.000000  ...  0.002290  0.000000  0.0  0.129779\n",
              "1       0.0    0.0  0.033333  0.043478  ...  0.003811  0.000000  0.0  0.148893\n",
              "2       0.0    0.0  0.033333  0.086957  ...  0.005332  0.000000  0.0  0.159960\n",
              "3       0.0    0.0  0.033333  0.130435  ...  0.008391  0.037037  0.0  0.182093\n",
              "4       0.0    0.0  0.033333  0.173913  ...  0.009912  0.074074  0.0  0.138833\n",
              "...     ...    ...       ...       ...  ...       ...       ...  ...       ...\n",
              "43795   1.0    1.0  1.000000  0.826087  ...  0.395659  0.000000  0.0  0.008048\n",
              "43796   1.0    1.0  1.000000  0.869565  ...  0.405588  0.000000  0.0  0.010060\n",
              "43797   1.0    1.0  1.000000  0.913043  ...  0.413996  0.000000  0.0  0.010060\n",
              "43798   1.0    1.0  1.000000  0.956522  ...  0.420866  0.000000  0.0  0.008048\n",
              "43799   1.0    1.0  1.000000  1.000000  ...  0.426216  0.000000  0.0  0.012072\n",
              "\n",
              "[43800 rows x 12 columns]"
            ]
          },
          "metadata": {
            "tags": []
          },
          "execution_count": 19
        }
      ]
    },
    {
      "cell_type": "markdown",
      "metadata": {
        "id": "gNab9EVJRnpI"
      },
      "source": [
        "## Create batches\n",
        "\n",
        "Lets randomly choose 5-step batches."
      ]
    },
    {
      "cell_type": "code",
      "metadata": {
        "colab": {
          "base_uri": "https://localhost:8080/"
        },
        "id": "xl-iQy9tSh5h",
        "outputId": "74795aa4-0d35-49df-e382-cfcacf46bc01"
      },
      "source": [
        "df_scaled.iloc[:7, :].values"
      ],
      "execution_count": 30,
      "outputs": [
        {
          "output_type": "execute_result",
          "data": {
            "text/plain": [
              "array([[0.        , 0.        , 0.03333333, 0.        , 0.35294118,\n",
              "        0.24590164, 0.52727273, 0.66666667, 0.00229001, 0.        ,\n",
              "        0.        , 0.12977867],\n",
              "       [0.        , 0.        , 0.03333333, 0.04347826, 0.36764706,\n",
              "        0.24590164, 0.52727273, 0.66666667, 0.00381099, 0.        ,\n",
              "        0.        , 0.14889336],\n",
              "       [0.        , 0.        , 0.03333333, 0.08695652, 0.42647059,\n",
              "        0.2295082 , 0.54545455, 0.66666667, 0.00533197, 0.        ,\n",
              "        0.        , 0.15995976],\n",
              "       [0.        , 0.        , 0.03333333, 0.13043478, 0.48529412,\n",
              "        0.2295082 , 0.56363636, 0.66666667, 0.00839101, 0.03703704,\n",
              "        0.        , 0.18209256],\n",
              "       [0.        , 0.        , 0.03333333, 0.17391304, 0.48529412,\n",
              "        0.2295082 , 0.56363636, 0.66666667, 0.00991199, 0.07407407,\n",
              "        0.        , 0.138833  ],\n",
              "       [0.        , 0.        , 0.03333333, 0.2173913 , 0.48529412,\n",
              "        0.21311475, 0.56363636, 0.66666667, 0.01143297, 0.11111111,\n",
              "        0.        , 0.10965795],\n",
              "       [0.        , 0.        , 0.03333333, 0.26086957, 0.48529412,\n",
              "        0.21311475, 0.58181818, 0.66666667, 0.01449201, 0.14814815,\n",
              "        0.        , 0.1056338 ]])"
            ]
          },
          "metadata": {
            "tags": []
          },
          "execution_count": 30
        }
      ]
    },
    {
      "cell_type": "code",
      "metadata": {
        "id": "q6jw9078M6ix"
      },
      "source": [
        "def create_batches(feats: pd.DataFrame, y_column_idx: int, batch_size: int = 5):\n",
        "  # outputs\n",
        "  batches = []\n",
        "  y_metric = []\n",
        "  # column selection\n",
        "  feature_cols = list(range(feats.shape[1]))\n",
        "  feature_cols.remove(y_column_idx)\n",
        "  # create batches\n",
        "  for i in range(batch_size, feats.shape[0]):\n",
        "    batches.append(feats.iloc[i-batch_size:i, feature_cols].values)\n",
        "    y_metric.append(feats.iloc[i, y_column_idx])\n",
        "  return np.array(batches), np.array(y_metric)"
      ],
      "execution_count": 25,
      "outputs": []
    },
    {
      "cell_type": "code",
      "metadata": {
        "id": "vAi9dB_WTilq"
      },
      "source": [
        "batches, labels = create_batches(df_scaled, 11, 5)"
      ],
      "execution_count": 26,
      "outputs": []
    },
    {
      "cell_type": "code",
      "metadata": {
        "colab": {
          "base_uri": "https://localhost:8080/"
        },
        "id": "UeQqzae9Ttjh",
        "outputId": "6adc0ec9-5836-49f1-deaa-b04d2f05e1ba"
      },
      "source": [
        "batches.shape"
      ],
      "execution_count": 34,
      "outputs": [
        {
          "output_type": "execute_result",
          "data": {
            "text/plain": [
              "(43795, 5, 11)"
            ]
          },
          "metadata": {
            "tags": []
          },
          "execution_count": 34
        }
      ]
    },
    {
      "cell_type": "code",
      "metadata": {
        "colab": {
          "base_uri": "https://localhost:8080/"
        },
        "id": "DpF8aYCrUUum",
        "outputId": "b14ac70f-e635-4477-c5a6-13420e34b090"
      },
      "source": [
        "labels.shape"
      ],
      "execution_count": 35,
      "outputs": [
        {
          "output_type": "execute_result",
          "data": {
            "text/plain": [
              "(43795,)"
            ]
          },
          "metadata": {
            "tags": []
          },
          "execution_count": 35
        }
      ]
    },
    {
      "cell_type": "markdown",
      "metadata": {
        "id": "Bgwsd1g_Ujqv"
      },
      "source": [
        "## Split into train/validation"
      ]
    },
    {
      "cell_type": "code",
      "metadata": {
        "id": "N9xY_eCwUufJ"
      },
      "source": [
        "import random"
      ],
      "execution_count": 37,
      "outputs": []
    },
    {
      "cell_type": "code",
      "metadata": {
        "id": "LsyKWlvwUmVD"
      },
      "source": [
        "def split_data(batches, labels, pct_test=.1):\n",
        "  assert(batches.shape[0] == labels.shape[0])\n",
        "  num_samples = batches.shape[0]\n",
        "  selector_test = np.array([random.random() for i in range(num_samples)]) < pct_test\n",
        "  selector_train = ~selector_test\n",
        "  train_feats = batches[selector_train]\n",
        "  train_labels = labels[selector_train]\n",
        "  test_feats = batches[selector_test]\n",
        "  test_labels = labels[selector_test]\n",
        "  return train_feats, train_labels, test_feats, test_labels"
      ],
      "execution_count": 47,
      "outputs": []
    },
    {
      "cell_type": "code",
      "metadata": {
        "id": "SCXnkGeOWVIY"
      },
      "source": [
        "train_feats, train_labels, test_feats, test_labels = split_data(batches, labels, .1)"
      ],
      "execution_count": 48,
      "outputs": []
    },
    {
      "cell_type": "code",
      "metadata": {
        "colab": {
          "base_uri": "https://localhost:8080/"
        },
        "id": "GtzWCdECWgk-",
        "outputId": "e9c62a92-299d-4862-8424-bf2a63620f61"
      },
      "source": [
        "train_feats.shape"
      ],
      "execution_count": 49,
      "outputs": [
        {
          "output_type": "execute_result",
          "data": {
            "text/plain": [
              "(39309, 5, 11)"
            ]
          },
          "metadata": {
            "tags": []
          },
          "execution_count": 49
        }
      ]
    },
    {
      "cell_type": "code",
      "metadata": {
        "colab": {
          "base_uri": "https://localhost:8080/"
        },
        "id": "09S-whepWiTj",
        "outputId": "7773ed39-a07d-49ac-a575-fe076fb9da54"
      },
      "source": [
        "train_labels.shape"
      ],
      "execution_count": 50,
      "outputs": [
        {
          "output_type": "execute_result",
          "data": {
            "text/plain": [
              "(39309,)"
            ]
          },
          "metadata": {
            "tags": []
          },
          "execution_count": 50
        }
      ]
    },
    {
      "cell_type": "code",
      "metadata": {
        "colab": {
          "base_uri": "https://localhost:8080/"
        },
        "id": "bmVqNLfmWk1Q",
        "outputId": "4c883313-926e-450c-d580-6b8fa364b9ed"
      },
      "source": [
        "test_feats.shape"
      ],
      "execution_count": 52,
      "outputs": [
        {
          "output_type": "execute_result",
          "data": {
            "text/plain": [
              "(4486, 5, 11)"
            ]
          },
          "metadata": {
            "tags": []
          },
          "execution_count": 52
        }
      ]
    },
    {
      "cell_type": "markdown",
      "metadata": {
        "id": "6SmwnXxnWsrd"
      },
      "source": [
        "## Train the network"
      ]
    },
    {
      "cell_type": "code",
      "metadata": {
        "id": "wh0K1D3BWubi"
      },
      "source": [
        ""
      ],
      "execution_count": null,
      "outputs": []
    }
  ]
}